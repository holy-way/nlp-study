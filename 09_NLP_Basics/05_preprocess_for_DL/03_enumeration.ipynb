{
 "cells": [
  {
   "cell_type": "markdown",
   "id": "5ae2426c-ad7b-4294-b239-8e44911ca9b1",
   "metadata": {},
   "source": [
    "# 03. Enumeration"
   ]
  },
  {
   "cell_type": "code",
   "execution_count": 1,
   "id": "7e364ba5-5895-4a13-9aa0-3749d9617419",
   "metadata": {},
   "outputs": [],
   "source": [
    "import urllib.request\n",
    "import pandas as pd\n",
    "from konlpy.tag import Mecab\n",
    "from nltk import FreqDist\n",
    "import numpy as np\n",
    "import matplotlib.pyplot as plt"
   ]
  },
  {
   "cell_type": "code",
   "execution_count": 2,
   "id": "1423c70a-8b8e-4b68-8159-b6522792dfbf",
   "metadata": {},
   "outputs": [],
   "source": [
    "urllib.request.urlretrieve(\"https://raw.githubusercontent.com/e9t/nsmc/master/ratings.txt\", filename=\"ratings.txt\")\n",
    "data = pd.read_table('ratings.txt')"
   ]
  },
  {
   "cell_type": "code",
   "execution_count": 6,
   "id": "1c843aaf-3aa0-405b-bd75-47687bdcc174",
   "metadata": {},
   "outputs": [
    {
     "name": "stderr",
     "output_type": "stream",
     "text": [
      "C:\\Users\\Public\\Documents\\ESTsoft\\CreatorTemp\\ipykernel_11484\\1536900195.py:2: SettingWithCopyWarning: \n",
      "A value is trying to be set on a copy of a slice from a DataFrame.\n",
      "Try using .loc[row_indexer,col_indexer] = value instead\n",
      "\n",
      "See the caveats in the documentation: https://pandas.pydata.org/pandas-docs/stable/user_guide/indexing.html#returning-a-view-versus-a-copy\n",
      "  sample_data['document'] = sample_data['document'].str.replace(\"[^ㄱ-ㅎㅏ-ㅣ가-힣 ]\", \"\", regex=True)\n"
     ]
    }
   ],
   "source": [
    "sample_data = data[:100]\n",
    "sample_data['document'] = sample_data['document'].str.replace(\"[^ㄱ-ㅎㅏ-ㅣ가-힣 ]\", \"\", regex=True)"
   ]
  },
  {
   "cell_type": "code",
   "execution_count": 3,
   "id": "293a52f1-120f-4e53-8540-e879d6d81508",
   "metadata": {},
   "outputs": [],
   "source": [
    "stopwords = [\n",
    "'의','가','이','은','들',\n",
    "'는','좀','잘','걍','과',\n",
    "'도','를','으로','자','에',\n",
    "'와','한','하다',\n",
    "'을','때','부터','수'\n",
    "]"
   ]
  },
  {
   "cell_type": "code",
   "execution_count": 4,
   "id": "bdadab67-60bf-4c5d-b20a-7822f91772b2",
   "metadata": {},
   "outputs": [],
   "source": [
    "tokenizer = Mecab(dicpath = 'C:/mecab/mecab-ko-dic')\n",
    "tokenized = []"
   ]
  },
  {
   "cell_type": "code",
   "execution_count": 7,
   "id": "ba2d7bc6-7319-4dd3-bc31-0fa134e3c5a3",
   "metadata": {},
   "outputs": [],
   "source": [
    "for sentence in sample_data['document']:\n",
    "\ttemp = tokenizer.morphs(sentence)\n",
    "\ttemp = [word for word in temp if not word in stopwords]\n",
    "\ttokenized.append(temp)"
   ]
  },
  {
   "cell_type": "code",
   "execution_count": 8,
   "id": "f536e9ed-6176-4ff4-932f-f762eba7b244",
   "metadata": {},
   "outputs": [],
   "source": [
    "vocab = FreqDist(np.hstack(tokenized))"
   ]
  },
  {
   "cell_type": "code",
   "execution_count": 9,
   "id": "011c1f33-6e5a-4dda-8556-1525014a9b62",
   "metadata": {},
   "outputs": [],
   "source": [
    "vocab_size = 500\n",
    "vocab = vocab.most_common(vocab_size)"
   ]
  },
  {
   "cell_type": "code",
   "execution_count": 10,
   "id": "c6b29cc5-dce5-4d13-99cc-526708fb36fb",
   "metadata": {},
   "outputs": [],
   "source": [
    "word_to_index = {word[0] : index + 2 for index, word in enumerate(vocab)}"
   ]
  },
  {
   "cell_type": "code",
   "execution_count": 12,
   "id": "72c71d06-e742-4a92-b918-e004221ef35d",
   "metadata": {},
   "outputs": [],
   "source": [
    "word_to_index['pad'] = 1\n",
    "word_to_index['unk'] = 0"
   ]
  },
  {
   "cell_type": "code",
   "execution_count": 15,
   "id": "1d2420c9-9e3d-4e95-ac68-07f711ed8621",
   "metadata": {},
   "outputs": [],
   "source": [
    "encoded = []\n",
    "for line in tokenized:\n",
    "    temp = []\n",
    "    for w in line:\n",
    "        try:\n",
    "            temp.append(word_to_index[w])\n",
    "        except KeyError:\n",
    "            temp.append(word_to_index['unk'])\n",
    "    encoded.append(temp)"
   ]
  },
  {
   "cell_type": "markdown",
   "id": "ddd05b75-2e98-45d5-bbc1-0b1e1adb7ffa",
   "metadata": {},
   "source": [
    "# 04. Padding"
   ]
  },
  {
   "cell_type": "code",
   "execution_count": 18,
   "id": "410a0e7f-d867-4552-bff1-f8bfb96622c8",
   "metadata": {},
   "outputs": [],
   "source": [
    "max_len = max(len(l) for l in encoded)"
   ]
  },
  {
   "cell_type": "code",
   "execution_count": 20,
   "id": "7f54fd83-57e7-4dfe-bd74-9ceaf89fb6fa",
   "metadata": {},
   "outputs": [
    {
     "name": "stdout",
     "output_type": "stream",
     "text": [
      "리뷰의 최대 길이 : 62\n",
      "리뷰의 최소 길이 : 1\n",
      "리뷰의 평균 길이 : 13.420000\n"
     ]
    },
    {
     "data": {
      "image/png": "[encoded data removed]",
      "text/plain": [
       "<Figure size 640x480 with 1 Axes>"
      ]
     },
     "metadata": {},
     "output_type": "display_data"
    }
   ],
   "source": [
    "print('리뷰의 최대 길이 : %d' % max_len)\n",
    "print('리뷰의 최소 길이 : %d' % min(len(l) for l in encoded))\n",
    "print('리뷰의 평균 길이 : %f' % (sum(map(len, encoded))/len(encoded)))\n",
    "plt.hist([len(s) for s in encoded], bins=50)\n",
    "plt.xlabel('length of sample')\n",
    "plt.ylabel('number of sample')\n",
    "plt.show()"
   ]
  },
  {
   "cell_type": "code",
   "execution_count": 21,
   "id": "584ce3fe-7232-4d2b-be20-da9418050ae9",
   "metadata": {},
   "outputs": [],
   "source": [
    "for line in encoded:\n",
    "    if len(line) < max_len:\n",
    "        line += [word_to_index['pad']] * (max_len - len(line))"
   ]
  },
  {
   "cell_type": "code",
   "execution_count": 22,
   "id": "15e0fa13-e4a9-4846-9ced-c35bece0d73d",
   "metadata": {},
   "outputs": [
    {
     "name": "stdout",
     "output_type": "stream",
     "text": [
      "리뷰의 최대 길이 : 62\n",
      "리뷰의 최소 길이 : 62\n",
      "리뷰의 평균 길이 : 62.000000\n"
     ]
    }
   ],
   "source": [
    "print('리뷰의 최대 길이 : %d' % max_len)\n",
    "print('리뷰의 최소 길이 : %d' % min(len(l) for l in encoded))\n",
    "print('리뷰의 평균 길이 : %f' % (sum(map(len, encoded))/len(encoded)))"
   ]
  },
  {
   "cell_type": "code",
   "execution_count": 23,
   "id": "dbf19ff5-56bc-47b5-9b4b-3f3257f5f051",
   "metadata": {},
   "outputs": [
    {
     "name": "stdout",
     "output_type": "stream",
     "text": [
      "[[74, 8, 4, 47, 38, 75, 14, 25, 26, 1, 1, 1, 1, 1, 1, 1, 1, 1, 1, 1, 1, 1, 1, 1, 1, 1, 1, 1, 1, 1, 1, 1, 1, 1, 1, 1, 1, 1, 1, 1, 1, 1, 1, 1, 1, 1, 1, 1, 1, 1, 1, 1, 1, 1, 1, 1, 1, 1, 1, 1, 1, 1], [184, 76, 185, 186, 187, 39, 188, 110, 189, 190, 19, 111, 191, 192, 12, 48, 77, 112, 27, 39, 193, 113, 114, 28, 194, 195, 196, 15, 110, 6, 78, 49, 15, 40, 197, 198, 4, 199, 6, 79, 29, 200, 80, 1, 1, 1, 1, 1, 1, 1, 1, 1, 1, 1, 1, 1, 1, 1, 1, 1, 1, 1], [201, 115, 202, 203, 28, 204, 205, 50, 9, 23, 10, 1, 1, 1, 1, 1, 1, 1, 1, 1, 1, 1, 1, 1, 1, 1, 1, 1, 1, 1, 1, 1, 1, 1, 1, 1, 1, 1, 1, 1, 1, 1, 1, 1, 1, 1, 1, 1, 1, 1, 1, 1, 1, 1, 1, 1, 1, 1, 1, 1, 1, 1]]\n"
     ]
    }
   ],
   "source": [
    "print(encoded[:3])"
   ]
  },
  {
   "cell_type": "code",
   "execution_count": null,
   "id": "e314718f-f86c-44e0-a375-3c6182797195",
   "metadata": {},
   "outputs": [],
   "source": [
    "ㅁ"
   ]
  }
 ],
 "metadata": {
  "kernelspec": {
   "display_name": "Python 3 (ipykernel)",
   "language": "python",
   "name": "python3"
  },
  "language_info": {
   "codemirror_mode": {
    "name": "ipython",
    "version": 3
   },
   "file_extension": ".py",
   "mimetype": "text/x-python",
   "name": "python",
   "nbconvert_exporter": "python",
   "pygments_lexer": "ipython3",
   "version": "3.11.9"
  }
 },
 "nbformat": 4,
 "nbformat_minor": 5
}
